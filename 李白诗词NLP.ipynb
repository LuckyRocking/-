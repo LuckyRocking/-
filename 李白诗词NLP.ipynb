{
 "cells": [
  {
   "cell_type": "code",
   "execution_count": 4,
   "metadata": {},
   "outputs": [],
   "source": [
    "import pandas as pd\n",
    "import numpy as np\n",
    "from collections import Counter\n",
    "import csv\n",
    "import jieba\n",
    "import re\n",
    "import matplotlib.pyplot as plt\n",
    "import seaborn as sns\n",
    "from keras import Sequential\n",
    "import keras_bert \n",
    "from keras import models\n",
    "from keras import Sequential\n",
    "from keras import layers\n",
    "from keras.layers import LSTM,Embedding,Dense,GRU,SimpleRNN\n",
    "from keras.utils import to_categorical"
   ]
  },
  {
   "cell_type": "code",
   "execution_count": 5,
   "metadata": {},
   "outputs": [],
   "source": [
    "#读取李白诗词数据集\n",
    "libai=pd.read_csv(r'C:\\Users\\Administrator\\Desktop\\李白诗词.txt',encoding='utf-8')\n",
    "#得到李白诗词数据列表\n",
    "poetry_lis=[''.join(i.split()) for i in libai['      李白诗词      ']]\n"
   ]
  },
  {
   "cell_type": "code",
   "execution_count": 6,
   "metadata": {},
   "outputs": [],
   "source": [
    "def poetry_optimize(poetry_lis:list):\n",
    "    '''并去除<p>卷、「诗名进行去除。将每行诗句以逗号、句号分隔开，'''\n",
    "    new_poetrycontnt=[]\n",
    "    for every_poetry in poetry_lis:\n",
    "        poetry_content=every_poetry.split('<')[0]\n",
    "        if '「'  not in poetry_content:\n",
    "            new_poetrycontnt.append(''.join(re.split('[，。]',poetry_content)))\n",
    "    return new_poetrycontnt\n",
    "\n",
    "#jieba分词\n",
    "def get_worddict(new_poetrycontnt:list):\n",
    "    '''将列表中的每一个诗句进行分词，使用jieba分词得到全部词，形成词典\n",
    "    '''\n",
    "    Token_poetry_content=[]\n",
    "    word_dict=dict()\n",
    "    for sentence in new_poetrycontnt:\n",
    "       for word in jieba.lcut(sentence,cut_all=True):\n",
    "            if word not in word_dict:\n",
    "                word_dict[word]=1\n",
    "            else:\n",
    "                word_dict[word]+=1\n",
    "            Token_poetry_content.append(word)\n",
    "    return word_dict,Token_poetry_content\n",
    "\n"
   ]
  },
  {
   "cell_type": "code",
   "execution_count": 7,
   "metadata": {},
   "outputs": [
    {
     "name": "stderr",
     "output_type": "stream",
     "text": [
      "Building prefix dict from the default dictionary ...\n",
      "Loading model from cache C:\\Users\\ADMINI~1\\AppData\\Local\\Temp\\jieba.cache\n",
      "Loading model cost 0.980 seconds.\n",
      "Prefix dict has been built successfully.\n"
     ]
    }
   ],
   "source": [
    "#统计词频\n",
    "#查看词频图\n",
    "new_poetrycontnt=poetry_optimize(poetry_lis)\n",
    "word_dict,Token_poetry_content=get_worddict(new_poetrycontnt)\n",
    "#pd.Series(word_dict).plot.bar()"
   ]
  },
  {
   "cell_type": "code",
   "execution_count": 8,
   "metadata": {},
   "outputs": [],
   "source": [
    "#将词映射称数字\n",
    "def word_to_index(word_dict):\n",
    "   '''将字映射成字符'''\n",
    "   word_to_index=dict()\n",
    "   for index,word in enumerate(word_dict):\n",
    "      word_to_index[word]=index\n",
    "   return word_to_index\n",
    "word_index=word_to_index(word_dict)"
   ]
  },
  {
   "cell_type": "code",
   "execution_count": 9,
   "metadata": {},
   "outputs": [],
   "source": [
    "#########################\n",
    "#数据处理\n",
    "#########将李白诗词进行分词，并拿key进行替代\n",
    "def poetry_to_sequence(Token_poetry_content,word_index):\n",
    "    sequence=[]\n",
    "    for word in Token_poetry_content:\n",
    "        sequence.append(word_index[word])\n",
    "    return sequence\n",
    "        \n",
    "    "
   ]
  },
  {
   "cell_type": "code",
   "execution_count": 10,
   "metadata": {},
   "outputs": [],
   "source": [
    "sequence=poetry_to_sequence(Token_poetry_content,word_index)"
   ]
  },
  {
   "cell_type": "code",
   "execution_count": 17,
   "metadata": {},
   "outputs": [],
   "source": [
    "################滑动窗口\n",
    "def slide_window(sequence,windowsize=5):\n",
    "    '''滑动窗口采集数据'''\n",
    "    feature_data=[]\n",
    "    label_data=[]\n",
    "    for _ in range(len(sequence)-windowsize):\n",
    "        feature,label=[[i] for i in sequence[_:_+windowsize]],sequence[_+windowsize]\n",
    "\n",
    "        feature_data.append(feature)\n",
    "        label_data.append(label)\n",
    "    return feature_data,label_data"
   ]
  },
  {
   "cell_type": "code",
   "execution_count": 18,
   "metadata": {},
   "outputs": [],
   "source": [
    "feature_data,label_data=slide_window(sequence)\n",
    "label_data=to_categorical(label_data)\n",
    "model=models.Sequential()\n",
    "model.add(layers.BatchNormalization())\n",
    "model.add(layers.LSTM(32,input_shape=(len(feature_data),1),activation='relu',return_sequences=True))\n",
    "model.add(layers.BatchNormalization())\n",
    "model.add(layers.LSTM(16,activation='elu'))\n",
    "model.add(layers.Dense(10129,activation='softmax'))\n",
    "model.compile(optimizer='rmsprop',loss='categorical_crossentropy',metrics='acc')\n",
    "model.fit(np.array(feature_data),label_data,epochs=5,batch_size=64,validation_data=0.3)"
   ]
  },
  {
   "cell_type": "code",
   "execution_count": 109,
   "metadata": {},
   "outputs": [],
   "source": [
    "def findmax_index(nums):\n",
    "    index=0\n",
    "    max=0\n",
    "    for index,number in enumerate(nums):\n",
    "        if number>max:\n",
    "            max=number\n",
    "            index=index\n",
    "    return max,index\n",
    "def findmax_index(nums):\n",
    "    maxindex=0\n",
    "    max=0\n",
    "    for index,number in enumerate(nums):\n",
    "        if number>max:\n",
    "            max=number\n",
    "            maxindex=index\n",
    "    return max,maxindex\n",
    "\n",
    "def get_predict(model,input_word,word_index,maxlen=100):\n",
    "    for num in range(maxlen): \n",
    "        token_input_word=jieba.lcut(input_word)\n",
    "        token_input_word_to_index=[[word_index[word]] if word in word_index else [np.random.randint(20000)] for word in token_input_word ]\n",
    "        if len(token_input_word)<5:\n",
    "            for _ in range(0,5-len(token_input_word_to_index)):\n",
    "                token_input_word_to_index.append([np.random.randint(20000)])\n",
    "        predict_lis=model.predict(token_input_word_to_index[-5:])\n",
    "        maxproba,maxprebawordindex=findmax_index(predict_lis[0])\n",
    "        index_to_word=dict([(j,i) for i,j in word_index.items()])\n",
    "        next_word=index_to_word[maxprebawordindex]\n",
    "        input_word+=next_word\n",
    "    print(input_word+next_word)\n",
    "\n",
    "\n",
    "    "
   ]
  },
  {
   "cell_type": "code",
   "execution_count": 158,
   "metadata": {},
   "outputs": [],
   "source": [
    "input='啊啊啊啊啊'"
   ]
  },
  {
   "cell_type": "code",
   "execution_count": 125,
   "metadata": {},
   "outputs": [
    {
     "data": {
      "text/plain": [
       "(57507, 10129)"
      ]
     },
     "execution_count": 125,
     "metadata": {},
     "output_type": "execute_result"
    }
   ],
   "source": [
    "label_data.shape"
   ]
  },
  {
   "cell_type": "code",
   "execution_count": 170,
   "metadata": {},
   "outputs": [],
   "source": [
    "def get_randompredict(input_word,word_index,maxlen=20):\n",
    "    now_nums_word=jieba.lcut(input_word)\n",
    "    for _ in range(maxlen-len(now_nums_word)):\n",
    "        new_word_index=np.random.randint(10129)\n",
    "        index_to_word=dict([(j,i) for i,j in word_index.items()])\n",
    "        new_word=index_to_word[new_word_index]\n",
    "        input_word+=new_word\n",
    "    \n",
    "    return input_word\n",
    "    \n"
   ]
  },
  {
   "cell_type": "code",
   "execution_count": 186,
   "metadata": {},
   "outputs": [
    {
     "data": {
      "text/plain": [
       "'啊啊啊啊啊蕖阐苦难蹳逵百万明晨久留心乱窗户沅切秦汉珠玉川北时光炼'"
      ]
     },
     "execution_count": 186,
     "metadata": {},
     "output_type": "execute_result"
    }
   ],
   "source": [
    "input_word=get_randompredict(input,word_index,maxlen=20)\n",
    "input_word"
   ]
  },
  {
   "cell_type": "code",
   "execution_count": 187,
   "metadata": {},
   "outputs": [],
   "source": [
    "def optimize(input_word):\n",
    "    new_str=[]\n",
    "    for i in range(len(input_word)):\n",
    "      if i//5==0:\n",
    "        new_str.append(input_word[i:i+5])\n",
    "    return ','.join(new_str)"
   ]
  },
  {
   "cell_type": "code",
   "execution_count": 188,
   "metadata": {},
   "outputs": [],
   "source": [
    "outputsentence=optimize(str(get_randompredict(input,word_index,maxlen=100)))"
   ]
  },
  {
   "cell_type": "code",
   "execution_count": 189,
   "metadata": {},
   "outputs": [
    {
     "data": {
      "text/plain": [
       "'啊啊啊啊啊,啊啊啊啊著,啊啊啊著书,啊啊著书鸿,啊著书鸿沟'"
      ]
     },
     "execution_count": 189,
     "metadata": {},
     "output_type": "execute_result"
    }
   ],
   "source": [
    "outputsentence"
   ]
  },
  {
   "cell_type": "code",
   "execution_count": 171,
   "metadata": {},
   "outputs": [
    {
     "data": {
      "text/plain": [
       "'啊啊啊啊啊两客后门枉杀老僧济悸优游昨夜仙郎坚开白葭一经倾国改化作沙伊川崆峒携标猿啼炼气茫户长豕翮残袖长南京涂泥中期河湾不啻交相喷薄残兵苔绿色一往玩忽一枝荆扉夷门下去四争战比颇然后巾东妓女徒劳夕烟洗染古意莫邪重价云山永隐然霹雳逸兴峰嶂右军丰年怡然三边凋落嗽饲寥寥下列苑向海准回向襜脱倾倒鸣凤硾云汉千里名花玉露生遍宝刀写意垂青得免贫病陆相娱长江罗江奔走军威'"
      ]
     },
     "execution_count": 171,
     "metadata": {},
     "output_type": "execute_result"
    }
   ],
   "source": [
    "str(get_randompredict(input,word_index,maxlen=100))"
   ]
  },
  {
   "cell_type": "code",
   "execution_count": null,
   "metadata": {},
   "outputs": [],
   "source": []
  }
 ],
 "metadata": {
  "kernelspec": {
   "display_name": "Python 3.10.2 64-bit",
   "language": "python",
   "name": "python3"
  },
  "language_info": {
   "codemirror_mode": {
    "name": "ipython",
    "version": 3
   },
   "file_extension": ".py",
   "mimetype": "text/x-python",
   "name": "python",
   "nbconvert_exporter": "python",
   "pygments_lexer": "ipython3",
   "version": "3.10.2"
  },
  "orig_nbformat": 4,
  "vscode": {
   "interpreter": {
    "hash": "e450050b432e843bda3c41bf3272c133bfc370a7003f3e377e27f87a49ce1127"
   }
  }
 },
 "nbformat": 4,
 "nbformat_minor": 2
}
